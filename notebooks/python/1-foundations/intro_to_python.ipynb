{
  "cells": [
    {
      "cell_type": "markdown",
      "metadata": {
        "id": "oTf2_VeJ8ugz"
      },
      "source": [
        "# **Introduction to Python**\n",
        "\n",
        "We will start with some fairly basic code to help you understand the structure of python.\n",
        "\n",
        "In this first exercise you'll be introduced to:\n",
        "\n",
        "1.   Comments\n",
        "2.   Variables\n",
        "3.   Print\n",
        "\n",
        "The print statement is useful for console output and debugging code.\n",
        "\n",
        "**Note:** Because Python2 is deprecated, all examples in this notebook are using Python3."
      ]
    },
    {
      "cell_type": "code",
      "execution_count": 5,
      "metadata": {
        "colab": {
          "base_uri": "https://localhost:8080/"
        },
        "id": "JA_7OmaY8tFA",
        "outputId": "667ef539-3cca-4220-edd7-0c0718002ff4"
      },
      "outputs": [
        {
          "name": "stdout",
          "output_type": "stream",
          "text": [
            "3\n",
            "HelloWorld\n",
            "The fox says, \"Eee Eee Eee!\"\n"
          ]
        }
      ],
      "source": [
        "# Comments are preceded by a hash\n",
        "# Always follow the hash with a space and then the comment\n",
        "\n",
        "# Variables are to the left of the equals sign\n",
        "# while the values assigned to the variable appear on the right\n",
        "\n",
        "a = 1\n",
        "b = 2\n",
        "\n",
        "# Strings assigned to variables should be enclosed in single or double quotes\n",
        "# These should never be mixed like 'Hello\"\n",
        "c = 'Hello'\n",
        "d = \"World\"\n",
        "\n",
        "# Strings that contain a mix of single and double quotes can be escaped with triple quotes\n",
        "e = '''The fox says, \"Eee Eee Eee!\"'''\n",
        "\n",
        "print(a+b)\n",
        "print(c+d)\n",
        "print(e)\n"
      ]
    }
  ],
  "metadata": {
    "colab": {
      "provenance": []
    },
    "kernelspec": {
      "display_name": "Python 3",
      "name": "python3"
    },
    "language_info": {
      "name": "python"
    }
  },
  "nbformat": 4,
  "nbformat_minor": 0
}
