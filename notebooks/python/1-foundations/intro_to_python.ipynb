{
  "cells": [
    {
      "cell_type": "markdown",
      "metadata": {
        "id": "oTf2_VeJ8ugz"
      },
      "source": [
        "# **Introduction to Python**\n",
        "\n",
        "We will start with some fairly basic code to help you understand the structure of python.\n",
        "\n",
        "In this first exercise you'll be introduced to:\n",
        "\n",
        "1.   Comments\n",
        "2.   Variables\n",
        "3.   Print\n",
        "\n",
        "The print statement is useful for console output and debugging code.\n",
        "\n",
        "**Note:** Because Python2 is deprecated, all examples in this notebook are using Python3."
      ]
    },
    {
      "cell_type": "code",
      "execution_count": null,
      "metadata": {
        "colab": {
          "base_uri": "https://localhost:8080/"
        },
        "id": "JA_7OmaY8tFA",
        "outputId": "667ef539-3cca-4220-edd7-0c0718002ff4"
      },
      "outputs": [],
      "source": [
        "# Comments are preceded by a hash\n",
        "# Always follow the hash with a space and then the comment\n",
        "\n",
        "# Variables are to the left of the equals sign\n",
        "# while the values assigned to the variable appear on the right\n",
        "\n",
        "a = 1\n",
        "b = 2\n",
        "\n",
        "# Strings assigned to variables should be enclosed in single or double quotes\n",
        "# These should never be mixed like 'Hello\"\n",
        "c = 'Hello'\n",
        "d = \"World\"\n",
        "\n",
        "# Strings that contain a mix of single and double quotes can be escaped with triple quotes\n",
        "e = '''The fox says, \"Eee Eee Eee!\"'''\n",
        "\n",
        "print(a+b)\n",
        "print(c+d)\n",
        "print(e)\n"
      ]
    },
    {
      "cell_type": "markdown",
      "metadata": {},
      "source": [
        "Notice in the example that when we print a+b it results in the addition of the two numbers. \n",
        "Python automatically determines the data types of numerical values, if we put quotes around the values, we will get different output because python interprets quotes around a value as a string.\n",
        "\n",
        "Go ahead and run the code below in it's current form.\n",
        "Notice the output errors in regards to the assertion and it shows the type as int.\n",
        "Clear the output and add 'a' to 'b' by adding single quotes around the values below and execute the code to see how it changes."
      ]
    },
    {
      "cell_type": "code",
      "execution_count": null,
      "metadata": {},
      "outputs": [],
      "source": [
        "# Add single quotes around the values shown below\n",
        "\n",
        "a = 1\n",
        "b = 2\n",
        "result = (a+b)\n",
        "print(result)\n",
        "print(type(result))\n",
        "\n",
        "assert result=='12', \"result should be a string of '12'\"\n"
      ]
    }
  ],
  "metadata": {
    "colab": {
      "provenance": []
    },
    "kernelspec": {
      "display_name": "Python 3",
      "name": "python3"
    },
    "language_info": {
      "name": "python"
    }
  },
  "nbformat": 4,
  "nbformat_minor": 0
}
